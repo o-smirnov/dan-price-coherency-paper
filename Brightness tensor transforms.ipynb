{
 "metadata": {
  "name": ""
 },
 "nbformat": 3,
 "nbformat_minor": 0,
 "worksheets": [
  {
   "cells": [
    {
     "cell_type": "code",
     "collapsed": true,
     "input": [
      "import math\n",
      "\n",
      "def symproduct (termlist):\n",
      "              \"\"\"works out product of terms symbolically\"\"\";\n",
      "              if all(map(bool,termlist)):\n",
      "                sign = 1\n",
      "                terms = {}\n",
      "                for t in termlist:\n",
      "                  if t is 1 or t is -1:\n",
      "                    sign *= t;\n",
      "                  elif isinstance(t,str):\n",
      "                    if t[0] == '-':\n",
      "                      sign *= -1;\n",
      "                      t = t[1:];\n",
      "                    for x in t:\n",
      "                      terms[x] = terms.get(x,0)+1\n",
      "                  else:\n",
      "                    raise RuntimeError,\"unknown term %s of type %s\"%(t,type(t));\n",
      "                # print sign,terms\n",
      "                return (\"-\" if sign<0 else \"\") + \".\".join([ (str(t) if n<2 else \"%s^%s\"%(t,n)) for t,n in terms.iteritems()]); \n",
      "              else:\n",
      "                return None;\n",
      "\n",
      "def symreduce (terms):\n",
      "  \"\"\"symbolically reduce list of terms by throwing out redundant pairs\"\"\";\n",
      "  out = [];\n",
      "  terms = list(terms);\n",
      "  while terms:\n",
      "    t0 = terms.pop(0);\n",
      "    # look for term with opposite sign and remove from list. If not found, add curent term to output.\n",
      "    try:\n",
      "      terms.remove( t0[1:] if t0[0] is '-' else '-'+t0 );\n",
      "    except:\n",
      "      out.append(t0);\n",
      "  return out;\n",
      "\n",
      "def LBL (B,Lp,Lq,i,j,k,l):\n",
      "  \"\"\"This symbolically works out the LBL sum at index ijkl\"\"\";\n",
      "  allterms = []\n",
      "  for a in range(4):\n",
      "    for b in range(4):\n",
      "        for c in range(4):\n",
      "            for d in range(4):\n",
      "              prod = symproduct([B.get((a,b,c,d)),Lp.get((i,a)),Lp.get((j,b)),Lq.get((k,c)),Lq.get((l,d))]);\n",
      "              if prod:\n",
      "                allterms.append(prod);\n",
      "  allterms = symreduce(allterms);\n",
      "  return \" \".join(allterms) if allterms else 0;\n",
      "\n",
      "def FL (F,L,i,j):\n",
      "  \"\"\"This symbolically works out the FL sum at index ij\"\"\";\n",
      "  allterms = []\n",
      "  for a in range(4):\n",
      "    for b in range(4):\n",
      "      prod = symproduct([F.get((a,b)),L.get((i,a)),L.get((j,b))]);\n",
      "      if prod:\n",
      "        allterms.append(prod);\n",
      "  allterms = symreduce(allterms);\n",
      "  return \" \".join(allterms) if allterms else 0;\n",
      " "
     ],
     "language": "python",
     "metadata": {},
     "outputs": [
      {
       "output_type": "stream",
       "stream": "stdout",
       "text": [
        "\n"
       ]
      }
     ],
     "prompt_number": 2
    },
    {
     "cell_type": "code",
     "collapsed": false,
     "input": [
      "# make Lx for motion along x axis\n",
      "Lx = {}\n",
      "Lx[0,0] = Lx[1,1] = \"g\"\n",
      "Lx[0,1] = Lx[1,0] = \"-bg\"\n",
      "Lx[2,2] = Lx[3,3] = 1\n",
      "# make Lx for identity\n",
      "Lid = {}\n",
      "Lid[0,0] = Lid[1,1] = Lid[2,2] = Lid[3,3] = 1;\n",
      "# make F for an unpolarized source\n",
      "F0 = {}\n",
      "I = 1\n",
      "F0[0,1] = F0[3,1] = \"-x\"\n",
      "F0[0,2] = F0[3,2] = \"-y\"\n",
      "F0[1,0] = F0[1,3] = \"x\"\n",
      "F0[2,0] = F0[2,3] = \"y\"\n",
      "# make B for an unpolarized source\n",
      "B0 = {}\n",
      "I = 1\n",
      "B0[0,1,0,1] = B0[0,1,3,1] = -I; B0[0,1,1,0] = B0[0,1,1,3] = I;\n",
      "B0[0,2,0,2] = B0[0,2,3,2] = -I; B0[0,2,2,0] = B0[0,2,2,3] = I;\n",
      "B0[3,1,0,1] = B0[3,1,3,1] = -I; B0[3,1,1,0] = B0[3,1,1,3] = I;\n",
      "B0[3,2,0,2] = B0[3,2,3,2] = -I; B0[3,2,2,0] = B0[3,2,2,3] = I;\n",
      "B0[1,0,0,1] = B0[1,0,3,1] =  I; B0[1,0,1,0] = B0[1,0,1,3] = -I;\n",
      "B0[2,0,0,2] = B0[2,0,3,2] =  I; B0[2,0,2,0] = B0[2,0,2,3] = -I;\n",
      "B0[1,3,0,1] = B0[1,3,3,1] =  I; B0[1,3,1,0] = B0[1,3,1,3] = -I;\n",
      "B0[2,3,0,2] = B0[2,3,3,2] =  I; B0[2,3,2,0] = B0[2,3,2,3] = -I;\n",
      "AB = [ (x,y) for x in range(4) for y in range(4) ];\n",
      "for a,b in AB:\n",
      "  print a,b,\": \",\" \".join([\"%3s\"%B0.get((a,b,c,d),\"\") for c,d in AB]);"
     ],
     "language": "python",
     "metadata": {},
     "outputs": [
      {
       "output_type": "stream",
       "stream": "stdout",
       "text": [
        "0 0 :                                                                 \n",
        "0 1 :       -1           1           1                      -1        \n",
        "0 2 :           -1                       1           1          -1    \n",
        "0 3 :                                                                 \n",
        "1 0 :        1          -1          -1                       1        \n",
        "1 1 :                                                                 \n",
        "1 2 :                                                                 \n",
        "1 3 :        1          -1          -1                       1        \n",
        "2 0 :            1                      -1          -1           1    \n",
        "2 1 :                                                                 \n",
        "2 2 :                                                                 \n",
        "2 3 :            1                      -1          -1           1    \n",
        "3 0 :                                                                 \n",
        "3 1 :       -1           1           1                      -1        \n",
        "3 2 :           -1                       1           1          -1    \n",
        "3 3 :                                                                 \n"
       ]
      }
     ],
     "prompt_number": 3
    },
    {
     "cell_type": "markdown",
     "metadata": {},
     "source": [
      "Compute EM tensor for moving source:"
     ]
    },
    {
     "cell_type": "code",
     "collapsed": false,
     "input": [
      "for i in range(4):\n",
      "  print \" \".join([\"%20s\"%FL(F0,Lx,i,j) for j in range(4)])"
     ],
     "language": "python",
     "metadata": {},
     "outputs": [
      {
       "output_type": "stream",
       "stream": "stdout",
       "text": [
        "                   0     -x.g^2 x.b^2.g^2                 -y.g               -x.b.g\n",
        "    -x.b^2.g^2 x.g^2                    0                y.b.g                  x.g\n",
        "                 y.g               -y.b.g                    0                    y\n",
        "               x.b.g                 -x.g                   -y                    0\n"
       ]
      }
     ],
     "prompt_number": 4
    },
    {
     "cell_type": "markdown",
     "metadata": {},
     "source": [
      "Compute B tensor for one antenna moving:"
     ]
    },
    {
     "cell_type": "code",
     "collapsed": false,
     "input": [
      "print 'x','x',\" \".join([\"%16s\"%(\"%d %d\"%(k,l)) for k in range(4) for l in range(4) if k>l ])\n",
      "for i in range(4):\n",
      "  for j in range(4):\n",
      "    print i,j,\" \".join([\"%16s\"%LBL(B0,Lid,Lx,i,j,k,l) for k in range(4) for l in range(4) if k>l ])"
     ],
     "language": "python",
     "metadata": {},
     "outputs": [
      {
       "output_type": "stream",
       "stream": "stdout",
       "text": [
        "x x              1 0              2 0              2 1              3 0              3 1              3 2\n",
        "0 0                0                0                0                0                0                0\n",
        "0 1     -b^2.g^2 g^2                0                0              b.g               -g                0\n",
        "0 2                0                g             -b.g                0                0                -\n",
        "0 3                0                0                0                0                0                0\n",
        "1 0     b^2.g^2 -g^2                0                0             -b.g                g                0\n",
        "1 1                0                0                0                0                0                0\n",
        "1 2                0                0                0                0                0                0\n",
        "1 3 "
       ]
      },
      {
       "output_type": "stream",
       "stream": "stdout",
       "text": [
        "    b^2.g^2 -g^2                0                0             -b.g                g                0\n",
        "2 0                0               -g              b.g                0                0                0\n",
        "2 1                0                0                0                0                0                0\n",
        "2 2                0                0                0                0                0                0\n",
        "2 3                0               -g              b.g                0                0                0\n",
        "3 0                0                0                0                0                0                0\n",
        "3 1     -b^2.g^2 g^2                0                0              b.g               -g                0\n",
        "3 2                0                g             -b.g                0                0                -\n",
        "3 3 "
       ]
      },
      {
       "output_type": "stream",
       "stream": "stdout",
       "text": [
        "               0                0                0                0                0                0\n"
       ]
      }
     ],
     "prompt_number": 23
    },
    {
     "cell_type": "markdown",
     "metadata": {},
     "source": [
      "Now, use this to compute $V^{0110}$ and $V^{0220}$ etc. for the case when antenna p is moving."
     ]
    },
    {
     "cell_type": "code",
     "collapsed": false,
     "input": [
      "print \"I:\",LBL(B0,Lid,Lx,0,1,1,0)\n",
      "print \"Q:\",LBL(B0,Lid,Lx,0,2,2,0)\n",
      "print \"U:\",LBL(B0,Lid,Lx,0,2,1,0)\n",
      "print \"V:\",LBL(B0,Lid,Lx,0,1,2,0)"
     ],
     "language": "python",
     "metadata": {},
     "outputs": [
      {
       "output_type": "stream",
       "stream": "stdout",
       "text": [
        "I: -b^2.g^2 g^2\n",
        "Q: g\n",
        "U: 0\n",
        "V: 0\n"
       ]
      }
     ],
     "prompt_number": 18
    },
    {
     "cell_type": "markdown",
     "metadata": {},
     "source": [
      "And for the case when the source is moving (equivalently, both antennas are moving):"
     ]
    },
    {
     "cell_type": "code",
     "collapsed": false,
     "input": [
      "print LBL(B0,Lx,Lx,0,1,1,0)\n",
      "print LBL(B0,Lx,Lx,0,2,2,0)\n",
      "print LBL(B0,Lx,Lx,0,2,1,0)\n",
      "print LBL(B0,Lx,Lx,0,1,2,0)"
     ],
     "language": "python",
     "metadata": {},
     "outputs": [
      {
       "output_type": "stream",
       "stream": "stdout",
       "text": [
        "-b^2.g^4 g^4 b^4.g^4 -b^2.g^4\n",
        "g^2\n",
        "0\n",
        "0\n"
       ]
      }
     ],
     "prompt_number": 7
    },
    {
     "cell_type": "code",
     "collapsed": true,
     "input": [
      "def boost (v):\n",
      "    gamma = 1/math.sqrt(1-v**2)\n",
      "    return (1+gamma**2)/2,(1-gamma**2)/2,(1-gamma)/2"
     ],
     "language": "python",
     "metadata": {},
     "outputs": [],
     "prompt_number": 8
    },
    {
     "cell_type": "code",
     "collapsed": false,
     "input": [
      "print boost(.5)\n",
      "print boost(.1)"
     ],
     "language": "python",
     "metadata": {},
     "outputs": [
      {
       "output_type": "stream",
       "stream": "stdout",
       "text": [
        "(1.166666666666667, -0.16666666666666685, -0.07735026918962584)\n",
        "(1.0050505050505052, -0.005050505050505083, -0.0025189076296060486)\n"
       ]
      }
     ],
     "prompt_number": 9
    },
    {
     "cell_type": "code",
     "collapsed": false,
     "input": [
      "print boost(10/300000.)\n",
      "print boost(30/300000.)\n",
      "print boost(1.23e-3)"
     ],
     "language": "python",
     "metadata": {},
     "outputs": [
      {
       "output_type": "stream",
       "stream": "stdout",
       "text": [
        "(1.0000000005555556, -5.555556015224283e-10, -2.7777780076121417e-10)\n",
        "(1.0000000050000002, -5.00000019165725e-09, -2.500000095828625e-09)\n",
        "(1.0000007564511444, -7.564511445012911e-07, -3.7822542919840885e-07)\n"
       ]
      }
     ],
     "prompt_number": 10
    },
    {
     "cell_type": "code",
     "collapsed": false,
     "input": [
      "boost(10/300000.)"
     ],
     "language": "python",
     "metadata": {},
     "outputs": [
      {
       "metadata": {},
       "output_type": "pyout",
       "prompt_number": 11,
       "text": [
        "(1.0000000005555556, -5.555556015224283e-10, -2.7777780076121417e-10)"
       ]
      }
     ],
     "prompt_number": 11
    },
    {
     "cell_type": "code",
     "collapsed": true,
     "input": [],
     "language": "python",
     "metadata": {},
     "outputs": [],
     "prompt_number": 11
    }
   ],
   "metadata": {}
  }
 ]
}