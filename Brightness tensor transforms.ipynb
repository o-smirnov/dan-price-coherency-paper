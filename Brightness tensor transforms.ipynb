{
 "metadata": {
  "name": "Brightness tensor transforms"
 }, 
 "nbformat": 2, 
 "worksheets": [
  {
   "cells": [
    {
     "cell_type": "code", 
     "collapsed": true, 
     "input": [
      "def LBL (B,Lp,Lq,i,j,k,l):", 
      "  \"\"\"This symbolically works out the LBL sum\"\"\";", 
      "  terms = []", 
      "  for a in range(4):", 
      "    for b in range(4):", 
      "        for c in range(4):", 
      "            for d in range(4):", 
      "              t = [B.get((a,b,c,d)),Lp.get((i,a)),Lp.get((j,b)),Lq.get((k,c)),Lq.get((l,d))];", 
      "              if all(map(bool,t)):", 
      "                terms.append(\".\".join(map(str,t)));", 
      "  return \" \".join(terms) if terms else 0;", 
      " "
     ], 
     "language": "python", 
     "outputs": [], 
     "prompt_number": 2
    }, 
    {
     "cell_type": "code", 
     "collapsed": false, 
     "input": [
      "# make Lx for motion along x axis", 
      "Lx = {}", 
      "Lx[0,0] = Lx[1,1] = \"g\"", 
      "Lx[0,1] = Lx[1,0] = \"-bg\"", 
      "Lx[2,2] = Lx[3,3] = \"1\"", 
      "# make Lx for identity", 
      "Lid = {}", 
      "Lid[0,0] = Lid[1,1] = Lid[2,2] = Lid[3,3] = 1;", 
      "# make B for an unpolarized source", 
      "B0 = {}", 
      "I = 1", 
      "B0[0,1,0,1] = B0[0,1,3,1] = -I; B0[0,1,1,0] = B0[0,1,1,3] = I;", 
      "B0[0,2,0,2] = B0[0,2,3,2] = -I; B0[0,2,2,0] = B0[0,2,2,3] = I;", 
      "B0[3,1,0,1] = B0[3,1,3,1] = -I; B0[3,1,1,0] = B0[3,1,1,3] = I;", 
      "B0[3,2,0,2] = B0[3,2,3,2] = -I; B0[3,2,2,0] = B0[3,2,2,3] = I;", 
      "B0[1,0,0,1] = B0[1,0,3,1] =  I; B0[1,0,1,0] = B0[1,0,1,3] = -I;", 
      "B0[2,0,0,2] = B0[2,0,3,2] =  I; B0[2,0,2,0] = B0[2,0,2,3] = -I;", 
      "B0[1,3,0,1] = B0[1,3,3,1] =  I; B0[1,3,1,0] = B0[1,3,1,3] = -I;", 
      "B0[2,3,0,2] = B0[2,3,3,2] =  I; B0[2,3,2,0] = B0[2,3,2,3] = -I;", 
      "AB = [ (x,y) for x in range(4) for y in range(4) ];", 
      "for a,b in AB:", 
      "  print a,b,\": \",\" \".join([\"%3s\"%B0.get((a,b,c,d),\"\") for c,d in AB]);"
     ], 
     "language": "python", 
     "outputs": [
      {
       "output_type": "stream", 
       "stream": "stdout", 
       "text": [
        "0 0 :                                                                 ", 
        "0 1 :       -1           1           1                      -1        ", 
        "0 2 :           -1                       1           1          -1    ", 
        "0 3 :                                                                 ", 
        "1 0 :        1          -1          -1                       1        ", 
        "1 1 :                                                                 ", 
        "1 2 :                                                                 ", 
        "1 3 :        1          -1          -1                       1        ", 
        "2 0 :            1                      -1          -1           1    ", 
        "2 1 :                                                                 ", 
        "2 2 :                                                                 ", 
        "2 3 :            1                      -1          -1           1    ", 
        "3 0 :                                                                 ", 
        "3 1 :       -1           1           1                      -1        ", 
        "3 2 :           -1                       1           1          -1    ", 
        "3 3 :                                                                 "
       ]
      }
     ], 
     "prompt_number": 3
    }, 
    {
     "cell_type": "markdown", 
     "source": [
      "Now, use this to compute $V^{0110}$ and $V^{0220}$ etc. for the case when antenna p is moving."
     ]
    }, 
    {
     "cell_type": "code", 
     "collapsed": false, 
     "input": [
      "print \"I:\",LBL(B0,Lx,Lid,0,1,1,0)", 
      "print \"Q:\",LBL(B0,Lx,Lid,0,2,2,0)", 
      "print \"U:\",LBL(B0,Lx,Lid,0,2,1,0)", 
      "print \"V:\",LBL(B0,Lx,Lid,0,1,2,0)"
     ], 
     "language": "python", 
     "outputs": [
      {
       "output_type": "stream", 
       "stream": "stdout", 
       "text": [
        "1.g.g.1.1 -1.-bg.-bg.1.1", 
        "1.g.1.1.1", 
        "0", 
        "0"
       ]
      }
     ], 
     "prompt_number": 4
    }, 
    {
     "cell_type": "markdown", 
     "source": [
      "And for the case when the source is moving (equivalently, both antennas are moving):"
     ]
    }, 
    {
     "cell_type": "code", 
     "collapsed": false, 
     "input": [
      "print LBL(B0,Lx,Lx,0,1,1,0)", 
      "print LBL(B0,Lx,Lx,0,2,2,0)", 
      "print LBL(B0,Lx,Lx,0,2,1,0)", 
      "print LBL(B0,Lx,Lx,0,1,2,0)"
     ], 
     "language": "python", 
     "outputs": [
      {
       "output_type": "stream", 
       "stream": "stdout", 
       "text": [
        "-1.g.g.-bg.-bg 1.g.g.g.g 1.-bg.-bg.-bg.-bg -1.-bg.-bg.g.g", 
        "1.g.1.1.g", 
        "0", 
        "0"
       ]
      }
     ], 
     "prompt_number": 5
    }, 
    {
     "cell_type": "code", 
     "collapsed": true, 
     "input": [
      "def boost (v):", 
      "    gamma = 1/math.sqrt(1-v**2)", 
      "    return (1+gamma**2)/2,(1-gamma**2)/2,(1-gamma)/2"
     ], 
     "language": "python", 
     "outputs": [], 
     "prompt_number": 6
    }, 
    {
     "cell_type": "code", 
     "collapsed": false, 
     "input": [
      "print boost(.5)", 
      "print boost(.1)"
     ], 
     "language": "python", 
     "outputs": [
      {
       "output_type": "stream", 
       "stream": "stdout", 
       "text": [
        "(1.166666666666667, -0.16666666666666685, -0.07735026918962584)", 
        "(1.0050505050505052, -0.005050505050505083, -0.0025189076296060486)"
       ]
      }
     ], 
     "prompt_number": 10
    }, 
    {
     "cell_type": "code", 
     "collapsed": false, 
     "input": [
      "print boost(10/300000.)", 
      "print boost(30/300000.)", 
      "print boost(1.23e-3)"
     ], 
     "language": "python", 
     "outputs": [
      {
       "output_type": "stream", 
       "stream": "stdout", 
       "text": [
        "(1.0000000005555556, -5.555556015224283e-10, -2.7777780076121417e-10)", 
        "(1.0000000050000002, -5.00000019165725e-09, -2.500000095828625e-09)", 
        "(1.0000007564511444, -7.564511445012911e-07, -3.7822542919840885e-07)"
       ]
      }
     ], 
     "prompt_number": 15
    }, 
    {
     "cell_type": "code", 
     "collapsed": false, 
     "input": [
      "boost(10/300000.)"
     ], 
     "language": "python", 
     "outputs": [
      {
       "output_type": "pyout", 
       "prompt_number": 9, 
       "text": [
        "(1.0000000005555556, -5.555556015224283e-10, -2.7777780076121417e-10)"
       ]
      }
     ], 
     "prompt_number": 9
    }, 
    {
     "cell_type": "code", 
     "collapsed": true, 
     "input": [], 
     "language": "python", 
     "outputs": [], 
     "prompt_number": 9
    }
   ]
  }
 ]
}